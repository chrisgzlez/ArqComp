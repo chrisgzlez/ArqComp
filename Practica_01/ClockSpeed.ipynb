{
 "cells": [
  {
   "cell_type": "code",
   "execution_count": 21,
   "id": "9de0df14",
   "metadata": {},
   "outputs": [],
   "source": [
    "import pandas as pd\n",
    "import numpy as np\n",
    "import matplotlib.pyplot as plt"
   ]
  },
  {
   "cell_type": "markdown",
   "id": "a0f3a613",
   "metadata": {},
   "source": [
    "# TODO\n",
    "\n",
    "* Cambiar os valores de A para que tamen teñas negativos\n",
    "* Nos quedamos con 2, 8, 16, 32, 256\n",
    "* Tenemos que hacer lo de los ints\n",
    "* Y cambiar el acceso a memoria\n"
   ]
  },
  {
   "cell_type": "code",
   "execution_count": 22,
   "id": "d3f00732",
   "metadata": {},
   "outputs": [],
   "source": [
    "def leer_csv(filename: str) -> pd.DataFrame:\n",
    "\n",
    "    pd.set_option('display.max_rows', None)\n",
    "    df = pd.read_csv(filename, names=[\"Res\", \"D\", \"L\", \"Ck_per_Access\"])\n",
    "    df = df.drop('Res', axis=1)\n",
    "    return df"
   ]
  },
  {
   "cell_type": "code",
   "execution_count": 23,
   "id": "942b26be",
   "metadata": {},
   "outputs": [],
   "source": [
    "\n",
    "def avg_of_best(df: pd.DataFrame) -> pd.DataFrame:\n",
    "\n",
    "    data = []\n",
    "    for d in df['D'].unique():\n",
    "        for l in df['L'].unique():\n",
    "            # Media geométrica de los 3 accesos más rapidos \n",
    "            ck_avg = df.loc[(df['D'] == d) & (df['L'] == l)] \\\n",
    "            \t.nsmallest(3, 'Ck_per_Access')['Ck_per_Access'] \\\n",
    "            \t.prod()**(1/3)\n",
    "            data.append([d, l, ck_avg])\n",
    "            \n",
    "    return pd.DataFrame(data, columns=['D', 'L', 'Ck'])"
   ]
  },
  {
   "cell_type": "code",
   "execution_count": 24,
   "id": "f2d3f34f",
   "metadata": {},
   "outputs": [],
   "source": [
    "# Saves all graphs\n",
    "def graph_data(df: pd.DataFrame, type_of_graph: str) -> None:\n",
    "    \n",
    "    for d in df['D'].unique():\n",
    "        fig, ax = plt.subplots()\n",
    "        \n",
    "        l_values = [str(i) for i in df.loc[df['D']==d]['L'].values]\n",
    "        ck_values = list(df.loc[df['D']==d]['Ck'].values)\n",
    "        \n",
    "        ax.bar(l_values, ck_values) # Crea la grafica\n",
    "        ax.set_ylabel('Ciclos de reloj por acceso')\n",
    "        ax.set_title(f'Valor de D: {d}')\n",
    "        \n",
    "        # Guarda las graficas\n",
    "        plt.savefig(f'data/{type_of_graph}/graphs/graph_{type_of_graph}{d}.png')"
   ]
  },
  {
   "cell_type": "code",
   "execution_count": 25,
   "id": "506d7643",
   "metadata": {},
   "outputs": [],
   "source": [
    "a = leer_csv('data/double/ck_double.csv')\n",
    "a = avg_of_best(a)\n",
    "graph_data(a, 'double')"
   ]
  },
  {
   "cell_type": "code",
   "execution_count": 26,
   "id": "13523600",
   "metadata": {},
   "outputs": [],
   "source": [
    "b = leer_csv('data/int/ck_int.csv')\n",
    "b = avg_of_best(b)\n",
    "graph_data(a, 'int')"
   ]
  },
  {
   "cell_type": "code",
   "execution_count": 27,
   "id": "7c8d629d",
   "metadata": {},
   "outputs": [],
   "source": [
    "c = leer_csv('data/no_index/ck_no_index.csv')\n",
    "c = avg_of_best(c)\n",
    "graph_data(a, 'no_index')"
   ]
  }
 ],
 "metadata": {
  "kernelspec": {
   "display_name": "Python 3 (ipykernel)",
   "language": "python",
   "name": "python3"
  },
  "language_info": {
   "codemirror_mode": {
    "name": "ipython",
    "version": 3
   },
   "file_extension": ".py",
   "mimetype": "text/x-python",
   "name": "python",
   "nbconvert_exporter": "python",
   "pygments_lexer": "ipython3",
   "version": "3.10.10"
  }
 },
 "nbformat": 4,
 "nbformat_minor": 5
}
